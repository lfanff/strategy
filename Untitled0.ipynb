{
 "metadata": {
  "name": "",
  "signature": "sha256:099bd4ab326b9f3d654324a337de97efd788ddaf3a964b8e50068e8842cc8fe0"
 },
 "nbformat": 3,
 "nbformat_minor": 0,
 "worksheets": [
  {
   "cells": [
    {
     "cell_type": "heading",
     "level": 1,
     "metadata": {},
     "source": [
      "THis IS THE FIRST STRATEGY BACKTEST"
     ]
    },
    {
     "cell_type": "code",
     "collapsed": false,
     "input": [],
     "language": "python",
     "metadata": {},
     "outputs": []
    }
   ],
   "metadata": {}
  }
 ]
}